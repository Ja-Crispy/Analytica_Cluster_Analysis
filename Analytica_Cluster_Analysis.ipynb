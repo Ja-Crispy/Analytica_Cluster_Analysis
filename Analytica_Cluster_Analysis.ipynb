{
 "cells": [
  {
   "cell_type": "code",
   "execution_count": 1,
   "id": "072907e1",
   "metadata": {},
   "outputs": [],
   "source": [
    "# Importing the libraries that we might need\n",
    "import numpy as np\n",
    "import pandas as pd\n",
    "import matplotlib.pyplot as plt\n",
    "import seaborn as sns\n",
    "import warnings\n",
    "warnings.filterwarnings('ignore')\n",
    "%matplotlib inline"
   ]
  },
  {
   "cell_type": "code",
   "execution_count": 2,
   "id": "ffb7ca3b",
   "metadata": {},
   "outputs": [],
   "source": [
    "# Loading the dataset\n",
    "data = pd.read_csv('survey_no_email.csv')"
   ]
  },
  {
   "cell_type": "code",
   "execution_count": 3,
   "id": "4a183428",
   "metadata": {},
   "outputs": [
    {
     "data": {
      "text/html": [
       "<div>\n",
       "<style scoped>\n",
       "    .dataframe tbody tr th:only-of-type {\n",
       "        vertical-align: middle;\n",
       "    }\n",
       "\n",
       "    .dataframe tbody tr th {\n",
       "        vertical-align: top;\n",
       "    }\n",
       "\n",
       "    .dataframe thead th {\n",
       "        text-align: right;\n",
       "    }\n",
       "</style>\n",
       "<table border=\"1\" class=\"dataframe\">\n",
       "  <thead>\n",
       "    <tr style=\"text-align: right;\">\n",
       "      <th></th>\n",
       "      <th>Timestamp</th>\n",
       "      <th>Were you able to access HMS on day of allocation?</th>\n",
       "      <th>Did you select the single room out of your own volition?</th>\n",
       "      <th>What's the reason you do not like the 4th/5th cluster?\\n(you can choose multiple answers!) (if you chose the cluster willingly, add the reason in others)</th>\n",
       "      <th>What would you want from admin side?</th>\n",
       "      <th>If there is anything else let us know!</th>\n",
       "    </tr>\n",
       "  </thead>\n",
       "  <tbody>\n",
       "    <tr>\n",
       "      <th>0</th>\n",
       "      <td>2023/07/12 1:43:55 PM GMT+5:30</td>\n",
       "      <td>Yes</td>\n",
       "      <td>No, I didn’t have any other choice.</td>\n",
       "      <td>The distance from the academic blocks/isolated...</td>\n",
       "      <td>Reduction in single room fees;Ability to switc...</td>\n",
       "      <td>NaN</td>\n",
       "    </tr>\n",
       "    <tr>\n",
       "      <th>1</th>\n",
       "      <td>2023/07/12 1:44:12 PM GMT+5:30</td>\n",
       "      <td>No</td>\n",
       "      <td>No, I didn’t have any other choice.</td>\n",
       "      <td>The distance from the academic blocks/isolated...</td>\n",
       "      <td>Reduction in single room fees;Ability to switc...</td>\n",
       "      <td>NaN</td>\n",
       "    </tr>\n",
       "    <tr>\n",
       "      <th>2</th>\n",
       "      <td>2023/07/12 1:44:17 PM GMT+5:30</td>\n",
       "      <td>No</td>\n",
       "      <td>No, I didn’t have any other choice.</td>\n",
       "      <td>The distance from the academic blocks/isolated...</td>\n",
       "      <td>Reduction in single room fees</td>\n",
       "      <td>NaN</td>\n",
       "    </tr>\n",
       "    <tr>\n",
       "      <th>3</th>\n",
       "      <td>2023/07/12 1:44:43 PM GMT+5:30</td>\n",
       "      <td>No</td>\n",
       "      <td>No, I didn’t have any other choice.</td>\n",
       "      <td>The distance from the academic blocks/isolated...</td>\n",
       "      <td>Reduction in single room fees</td>\n",
       "      <td>-</td>\n",
       "    </tr>\n",
       "    <tr>\n",
       "      <th>4</th>\n",
       "      <td>2023/07/12 1:45:04 PM GMT+5:30</td>\n",
       "      <td>No</td>\n",
       "      <td>No, I didn’t have any other choice.</td>\n",
       "      <td>Unreasonably high fees;Non functioning AC/Low ...</td>\n",
       "      <td>Reduction in single room fees;Ability to switc...</td>\n",
       "      <td>NaN</td>\n",
       "    </tr>\n",
       "  </tbody>\n",
       "</table>\n",
       "</div>"
      ],
      "text/plain": [
       "                        Timestamp  \\\n",
       "0  2023/07/12 1:43:55 PM GMT+5:30   \n",
       "1  2023/07/12 1:44:12 PM GMT+5:30   \n",
       "2  2023/07/12 1:44:17 PM GMT+5:30   \n",
       "3  2023/07/12 1:44:43 PM GMT+5:30   \n",
       "4  2023/07/12 1:45:04 PM GMT+5:30   \n",
       "\n",
       "  Were you able to access HMS on day of allocation?  \\\n",
       "0                                               Yes   \n",
       "1                                                No   \n",
       "2                                                No   \n",
       "3                                                No   \n",
       "4                                                No   \n",
       "\n",
       "  Did you select the single room out of your own volition?  \\\n",
       "0                No, I didn’t have any other choice.         \n",
       "1                No, I didn’t have any other choice.         \n",
       "2                No, I didn’t have any other choice.         \n",
       "3                No, I didn’t have any other choice.         \n",
       "4                No, I didn’t have any other choice.         \n",
       "\n",
       "  What's the reason you do not like the 4th/5th cluster?\\n(you can choose multiple answers!) (if you chose the cluster willingly, add the reason in others)  \\\n",
       "0  The distance from the academic blocks/isolated...                                                                                                          \n",
       "1  The distance from the academic blocks/isolated...                                                                                                          \n",
       "2  The distance from the academic blocks/isolated...                                                                                                          \n",
       "3  The distance from the academic blocks/isolated...                                                                                                          \n",
       "4  Unreasonably high fees;Non functioning AC/Low ...                                                                                                          \n",
       "\n",
       "                What would you want from admin side?  \\\n",
       "0  Reduction in single room fees;Ability to switc...   \n",
       "1  Reduction in single room fees;Ability to switc...   \n",
       "2                      Reduction in single room fees   \n",
       "3                      Reduction in single room fees   \n",
       "4  Reduction in single room fees;Ability to switc...   \n",
       "\n",
       "  If there is anything else let us know!  \n",
       "0                                    NaN  \n",
       "1                                    NaN  \n",
       "2                                    NaN  \n",
       "3                                      -  \n",
       "4                                    NaN  "
      ]
     },
     "execution_count": 3,
     "metadata": {},
     "output_type": "execute_result"
    }
   ],
   "source": [
    "# Having a look at the dataset\n",
    "data.head()"
   ]
  },
  {
   "cell_type": "code",
   "execution_count": 4,
   "id": "edf490d8",
   "metadata": {},
   "outputs": [
    {
     "data": {
      "text/plain": [
       "(208, 6)"
      ]
     },
     "execution_count": 4,
     "metadata": {},
     "output_type": "execute_result"
    }
   ],
   "source": [
    "# Checking the shape of the dataset\n",
    "data.shape"
   ]
  },
  {
   "cell_type": "code",
   "execution_count": 5,
   "id": "4c7a213e",
   "metadata": {},
   "outputs": [],
   "source": [
    "# There are 7 column and we got 208 responses from the students"
   ]
  },
  {
   "cell_type": "code",
   "execution_count": 6,
   "id": "bb50d2be",
   "metadata": {},
   "outputs": [
    {
     "data": {
      "text/plain": [
       "Index(['Timestamp', 'Were you able to access HMS on day of allocation?',\n",
       "       'Did you select the single room out of your own volition?',\n",
       "       'What's the reason you do not like the 4th/5th cluster?\\n(you can choose multiple answers!) (if you chose the cluster willingly, add the reason in others)',\n",
       "       'What would you want from admin side?',\n",
       "       'If there is anything else let us know!'],\n",
       "      dtype='object')"
      ]
     },
     "execution_count": 6,
     "metadata": {},
     "output_type": "execute_result"
    }
   ],
   "source": [
    "# Checking names of all columns in the train data\n",
    "data.columns"
   ]
  },
  {
   "cell_type": "code",
   "execution_count": 7,
   "id": "c23ec57f",
   "metadata": {},
   "outputs": [],
   "source": [
    "# These are the questions that we asked in the survey with the addition of Timestamp which I will drop later and the Ussername which is the email of those who filled the form"
   ]
  },
  {
   "cell_type": "code",
   "execution_count": 8,
   "id": "b0e9add7",
   "metadata": {},
   "outputs": [
    {
     "name": "stdout",
     "output_type": "stream",
     "text": [
      "<class 'pandas.core.frame.DataFrame'>\n",
      "RangeIndex: 208 entries, 0 to 207\n",
      "Data columns (total 6 columns):\n",
      " #   Column                                                                                                                                                    Non-Null Count  Dtype \n",
      "---  ------                                                                                                                                                    --------------  ----- \n",
      " 0   Timestamp                                                                                                                                                 208 non-null    object\n",
      " 1   Were you able to access HMS on day of allocation?                                                                                                         208 non-null    object\n",
      " 2   Did you select the single room out of your own volition?                                                                                                  208 non-null    object\n",
      " 3   What's the reason you do not like the 4th/5th cluster?\n",
      "(you can choose multiple answers!) (if you chose the cluster willingly, add the reason in others)  207 non-null    object\n",
      " 4   What would you want from admin side?                                                                                                                      208 non-null    object\n",
      " 5   If there is anything else let us know!                                                                                                                    38 non-null     object\n",
      "dtypes: object(6)\n",
      "memory usage: 9.9+ KB\n"
     ]
    }
   ],
   "source": [
    "# Getting basic information about the dataset\n",
    "data.info()"
   ]
  },
  {
   "cell_type": "code",
   "execution_count": 9,
   "id": "7288f86c",
   "metadata": {},
   "outputs": [],
   "source": [
    "# We observe that all our values are of object datatype"
   ]
  },
  {
   "cell_type": "code",
   "execution_count": 10,
   "id": "cd396223",
   "metadata": {},
   "outputs": [
    {
     "data": {
      "text/plain": [
       "If there is anything else let us know!                                                                                                                       170\n",
       "What's the reason you do not like the 4th/5th cluster?\\n(you can choose multiple answers!) (if you chose the cluster willingly, add the reason in others)      1\n",
       "Timestamp                                                                                                                                                      0\n",
       "Were you able to access HMS on day of allocation?                                                                                                              0\n",
       "Did you select the single room out of your own volition?                                                                                                       0\n",
       "What would you want from admin side?                                                                                                                           0\n",
       "dtype: int64"
      ]
     },
     "execution_count": 10,
     "metadata": {},
     "output_type": "execute_result"
    }
   ],
   "source": [
    "# Checking for null values in the dataset\n",
    "data.isnull().sum().sort_values(ascending = False)"
   ]
  },
  {
   "cell_type": "code",
   "execution_count": 11,
   "id": "2f42575d",
   "metadata": {},
   "outputs": [],
   "source": [
    "# We can observe that there are null values in the Reason of not liking the 4th/5th cluster and majority null values in the last question where we asked for anything else the students might want to add on"
   ]
  },
  {
   "cell_type": "code",
   "execution_count": 12,
   "id": "5bdcba65",
   "metadata": {},
   "outputs": [],
   "source": [
    "# Dropping the timestamp column since it is not needed\n",
    "data = data.drop('Timestamp', axis=1)"
   ]
  },
  {
   "cell_type": "code",
   "execution_count": 13,
   "id": "cd7cbe52",
   "metadata": {},
   "outputs": [
    {
     "data": {
      "text/html": [
       "<div>\n",
       "<style scoped>\n",
       "    .dataframe tbody tr th:only-of-type {\n",
       "        vertical-align: middle;\n",
       "    }\n",
       "\n",
       "    .dataframe tbody tr th {\n",
       "        vertical-align: top;\n",
       "    }\n",
       "\n",
       "    .dataframe thead th {\n",
       "        text-align: right;\n",
       "    }\n",
       "</style>\n",
       "<table border=\"1\" class=\"dataframe\">\n",
       "  <thead>\n",
       "    <tr style=\"text-align: right;\">\n",
       "      <th></th>\n",
       "      <th>Were you able to access HMS on day of allocation?</th>\n",
       "      <th>Did you select the single room out of your own volition?</th>\n",
       "      <th>What's the reason you do not like the 4th/5th cluster?\\n(you can choose multiple answers!) (if you chose the cluster willingly, add the reason in others)</th>\n",
       "      <th>What would you want from admin side?</th>\n",
       "      <th>If there is anything else let us know!</th>\n",
       "    </tr>\n",
       "  </thead>\n",
       "  <tbody>\n",
       "    <tr>\n",
       "      <th>0</th>\n",
       "      <td>Yes</td>\n",
       "      <td>No, I didn’t have any other choice.</td>\n",
       "      <td>The distance from the academic blocks/isolated...</td>\n",
       "      <td>Reduction in single room fees;Ability to switc...</td>\n",
       "      <td>NaN</td>\n",
       "    </tr>\n",
       "    <tr>\n",
       "      <th>1</th>\n",
       "      <td>No</td>\n",
       "      <td>No, I didn’t have any other choice.</td>\n",
       "      <td>The distance from the academic blocks/isolated...</td>\n",
       "      <td>Reduction in single room fees;Ability to switc...</td>\n",
       "      <td>NaN</td>\n",
       "    </tr>\n",
       "    <tr>\n",
       "      <th>2</th>\n",
       "      <td>No</td>\n",
       "      <td>No, I didn’t have any other choice.</td>\n",
       "      <td>The distance from the academic blocks/isolated...</td>\n",
       "      <td>Reduction in single room fees</td>\n",
       "      <td>NaN</td>\n",
       "    </tr>\n",
       "    <tr>\n",
       "      <th>3</th>\n",
       "      <td>No</td>\n",
       "      <td>No, I didn’t have any other choice.</td>\n",
       "      <td>The distance from the academic blocks/isolated...</td>\n",
       "      <td>Reduction in single room fees</td>\n",
       "      <td>-</td>\n",
       "    </tr>\n",
       "    <tr>\n",
       "      <th>4</th>\n",
       "      <td>No</td>\n",
       "      <td>No, I didn’t have any other choice.</td>\n",
       "      <td>Unreasonably high fees;Non functioning AC/Low ...</td>\n",
       "      <td>Reduction in single room fees;Ability to switc...</td>\n",
       "      <td>NaN</td>\n",
       "    </tr>\n",
       "  </tbody>\n",
       "</table>\n",
       "</div>"
      ],
      "text/plain": [
       "  Were you able to access HMS on day of allocation?  \\\n",
       "0                                               Yes   \n",
       "1                                                No   \n",
       "2                                                No   \n",
       "3                                                No   \n",
       "4                                                No   \n",
       "\n",
       "  Did you select the single room out of your own volition?  \\\n",
       "0                No, I didn’t have any other choice.         \n",
       "1                No, I didn’t have any other choice.         \n",
       "2                No, I didn’t have any other choice.         \n",
       "3                No, I didn’t have any other choice.         \n",
       "4                No, I didn’t have any other choice.         \n",
       "\n",
       "  What's the reason you do not like the 4th/5th cluster?\\n(you can choose multiple answers!) (if you chose the cluster willingly, add the reason in others)  \\\n",
       "0  The distance from the academic blocks/isolated...                                                                                                          \n",
       "1  The distance from the academic blocks/isolated...                                                                                                          \n",
       "2  The distance from the academic blocks/isolated...                                                                                                          \n",
       "3  The distance from the academic blocks/isolated...                                                                                                          \n",
       "4  Unreasonably high fees;Non functioning AC/Low ...                                                                                                          \n",
       "\n",
       "                What would you want from admin side?  \\\n",
       "0  Reduction in single room fees;Ability to switc...   \n",
       "1  Reduction in single room fees;Ability to switc...   \n",
       "2                      Reduction in single room fees   \n",
       "3                      Reduction in single room fees   \n",
       "4  Reduction in single room fees;Ability to switc...   \n",
       "\n",
       "  If there is anything else let us know!  \n",
       "0                                    NaN  \n",
       "1                                    NaN  \n",
       "2                                    NaN  \n",
       "3                                      -  \n",
       "4                                    NaN  "
      ]
     },
     "execution_count": 13,
     "metadata": {},
     "output_type": "execute_result"
    }
   ],
   "source": [
    "# Having a look at the updated dataset\n",
    "data.head()"
   ]
  },
  {
   "cell_type": "code",
   "execution_count": 14,
   "id": "1e7851aa",
   "metadata": {},
   "outputs": [],
   "source": [
    "# We can see that the Timestamp column has been dropped"
   ]
  },
  {
   "cell_type": "code",
   "execution_count": 15,
   "id": "ffdd3ee2",
   "metadata": {},
   "outputs": [],
   "source": [
    "# Dropping the row with null value in What's the reason you do not like the 4th/5th cluster?\\n(you can choose multiple answers!) (if you chose the cluster willingly, add the reason in others)\n",
    "data = data.dropna(subset=['What\\'s the reason you do not like the 4th/5th cluster?\\n(you can choose multiple answers!) (if you chose the cluster willingly, add the reason in others)'])"
   ]
  },
  {
   "cell_type": "code",
   "execution_count": 16,
   "id": "7f25f357",
   "metadata": {},
   "outputs": [
    {
     "data": {
      "text/plain": [
       "(207, 5)"
      ]
     },
     "execution_count": 16,
     "metadata": {},
     "output_type": "execute_result"
    }
   ],
   "source": [
    "# Checking the shape of the dataset\n",
    "data.shape"
   ]
  },
  {
   "cell_type": "code",
   "execution_count": 17,
   "id": "783b85c2",
   "metadata": {},
   "outputs": [],
   "source": [
    "# We can see that the one row with null value has been dropped"
   ]
  },
  {
   "cell_type": "code",
   "execution_count": 18,
   "id": "0d501784",
   "metadata": {},
   "outputs": [],
   "source": [
    "# Converting categorical data to numerical data\n",
    "data['Were you able to access HMS on day of allocation?'] = data['Were you able to access HMS on day of allocation?'].map({'No':0, 'Yes':1})"
   ]
  },
  {
   "cell_type": "code",
   "execution_count": 19,
   "id": "4322cb8b",
   "metadata": {},
   "outputs": [
    {
     "data": {
      "text/html": [
       "<div>\n",
       "<style scoped>\n",
       "    .dataframe tbody tr th:only-of-type {\n",
       "        vertical-align: middle;\n",
       "    }\n",
       "\n",
       "    .dataframe tbody tr th {\n",
       "        vertical-align: top;\n",
       "    }\n",
       "\n",
       "    .dataframe thead th {\n",
       "        text-align: right;\n",
       "    }\n",
       "</style>\n",
       "<table border=\"1\" class=\"dataframe\">\n",
       "  <thead>\n",
       "    <tr style=\"text-align: right;\">\n",
       "      <th></th>\n",
       "      <th>Were you able to access HMS on day of allocation?</th>\n",
       "      <th>Did you select the single room out of your own volition?</th>\n",
       "      <th>What's the reason you do not like the 4th/5th cluster?\\n(you can choose multiple answers!) (if you chose the cluster willingly, add the reason in others)</th>\n",
       "      <th>What would you want from admin side?</th>\n",
       "      <th>If there is anything else let us know!</th>\n",
       "    </tr>\n",
       "  </thead>\n",
       "  <tbody>\n",
       "    <tr>\n",
       "      <th>0</th>\n",
       "      <td>1</td>\n",
       "      <td>No, I didn’t have any other choice.</td>\n",
       "      <td>The distance from the academic blocks/isolated...</td>\n",
       "      <td>Reduction in single room fees;Ability to switc...</td>\n",
       "      <td>NaN</td>\n",
       "    </tr>\n",
       "    <tr>\n",
       "      <th>1</th>\n",
       "      <td>0</td>\n",
       "      <td>No, I didn’t have any other choice.</td>\n",
       "      <td>The distance from the academic blocks/isolated...</td>\n",
       "      <td>Reduction in single room fees;Ability to switc...</td>\n",
       "      <td>NaN</td>\n",
       "    </tr>\n",
       "    <tr>\n",
       "      <th>2</th>\n",
       "      <td>0</td>\n",
       "      <td>No, I didn’t have any other choice.</td>\n",
       "      <td>The distance from the academic blocks/isolated...</td>\n",
       "      <td>Reduction in single room fees</td>\n",
       "      <td>NaN</td>\n",
       "    </tr>\n",
       "    <tr>\n",
       "      <th>3</th>\n",
       "      <td>0</td>\n",
       "      <td>No, I didn’t have any other choice.</td>\n",
       "      <td>The distance from the academic blocks/isolated...</td>\n",
       "      <td>Reduction in single room fees</td>\n",
       "      <td>-</td>\n",
       "    </tr>\n",
       "    <tr>\n",
       "      <th>4</th>\n",
       "      <td>0</td>\n",
       "      <td>No, I didn’t have any other choice.</td>\n",
       "      <td>Unreasonably high fees;Non functioning AC/Low ...</td>\n",
       "      <td>Reduction in single room fees;Ability to switc...</td>\n",
       "      <td>NaN</td>\n",
       "    </tr>\n",
       "  </tbody>\n",
       "</table>\n",
       "</div>"
      ],
      "text/plain": [
       "   Were you able to access HMS on day of allocation?  \\\n",
       "0                                                  1   \n",
       "1                                                  0   \n",
       "2                                                  0   \n",
       "3                                                  0   \n",
       "4                                                  0   \n",
       "\n",
       "  Did you select the single room out of your own volition?  \\\n",
       "0                No, I didn’t have any other choice.         \n",
       "1                No, I didn’t have any other choice.         \n",
       "2                No, I didn’t have any other choice.         \n",
       "3                No, I didn’t have any other choice.         \n",
       "4                No, I didn’t have any other choice.         \n",
       "\n",
       "  What's the reason you do not like the 4th/5th cluster?\\n(you can choose multiple answers!) (if you chose the cluster willingly, add the reason in others)  \\\n",
       "0  The distance from the academic blocks/isolated...                                                                                                          \n",
       "1  The distance from the academic blocks/isolated...                                                                                                          \n",
       "2  The distance from the academic blocks/isolated...                                                                                                          \n",
       "3  The distance from the academic blocks/isolated...                                                                                                          \n",
       "4  Unreasonably high fees;Non functioning AC/Low ...                                                                                                          \n",
       "\n",
       "                What would you want from admin side?  \\\n",
       "0  Reduction in single room fees;Ability to switc...   \n",
       "1  Reduction in single room fees;Ability to switc...   \n",
       "2                      Reduction in single room fees   \n",
       "3                      Reduction in single room fees   \n",
       "4  Reduction in single room fees;Ability to switc...   \n",
       "\n",
       "  If there is anything else let us know!  \n",
       "0                                    NaN  \n",
       "1                                    NaN  \n",
       "2                                    NaN  \n",
       "3                                      -  \n",
       "4                                    NaN  "
      ]
     },
     "execution_count": 19,
     "metadata": {},
     "output_type": "execute_result"
    }
   ],
   "source": [
    "# Looking at our updated dataset\n",
    "data.head()"
   ]
  }
 ],
 "metadata": {
  "kernelspec": {
   "display_name": "Python 3 (ipykernel)",
   "language": "python",
   "name": "python3"
  },
  "language_info": {
   "codemirror_mode": {
    "name": "ipython",
    "version": 3
   },
   "file_extension": ".py",
   "mimetype": "text/x-python",
   "name": "python",
   "nbconvert_exporter": "python",
   "pygments_lexer": "ipython3",
   "version": "3.11.3"
  }
 },
 "nbformat": 4,
 "nbformat_minor": 5
}
